{
  "nbformat": 4,
  "nbformat_minor": 0,
  "metadata": {
    "colab": {
      "provenance": [],
      "gpuType": "T4",
      "mount_file_id": "1AE9mSAo8elF28sSKIhDMqXWjkRy-zLjF",
      "authorship_tag": "ABX9TyPbRq4eicXUdMEeM2jS3b+0",
      "include_colab_link": true
    },
    "kernelspec": {
      "name": "python3",
      "display_name": "Python 3"
    },
    "language_info": {
      "name": "python"
    },
    "accelerator": "GPU"
  },
  "cells": [
    {
      "cell_type": "markdown",
      "metadata": {
        "id": "view-in-github",
        "colab_type": "text"
      },
      "source": [
        "<a href=\"https://colab.research.google.com/github/nihalmascar/OCRusingDeepLearning/blob/main/OCRwithinBoudningBox.ipynb\" target=\"_parent\"><img src=\"https://colab.research.google.com/assets/colab-badge.svg\" alt=\"Open In Colab\"/></a>"
      ]
    },
    {
      "cell_type": "markdown",
      "source": [
        "# Performing OCR using Deep Learning"
      ],
      "metadata": {
        "id": "RbKzDeiNnX13"
      }
    },
    {
      "cell_type": "markdown",
      "source": [
        "## Importing and installing libraries & storage of paths and creation of folder"
      ],
      "metadata": {
        "id": "pg2nFdfPnbvr"
      }
    },
    {
      "cell_type": "code",
      "source": [
        "from google.colab import drive\n",
        "drive.mount('/content/drive',force_remount=True)"
      ],
      "metadata": {
        "id": "Fy9SuY3JnJW7",
        "colab": {
          "base_uri": "https://localhost:8080/"
        },
        "outputId": "976d091e-b0f8-47cb-efe3-628298eb7eed"
      },
      "execution_count": 1,
      "outputs": [
        {
          "output_type": "stream",
          "name": "stdout",
          "text": [
            "Mounted at /content/drive\n"
          ]
        }
      ]
    },
    {
      "cell_type": "code",
      "source": [
        "!pip install -q ultralytics\n",
        "!pip install -q EasyOCR\n",
        "!pip3 install -q torch torchvision torchaudio\n",
        "!unzip -q /content/drive/MyDrive/my_model.zip -d /content/model\n",
        "from ultralytics import YOLO\n",
        "import os\n",
        "import cv2\n",
        "import easyocr"
      ],
      "metadata": {
        "id": "h83jo1N3fvLP"
      },
      "execution_count": 2,
      "outputs": []
    },
    {
      "cell_type": "markdown",
      "source": [
        "### ALL PATHS"
      ],
      "metadata": {
        "id": "qGASwMpFoldO"
      }
    },
    {
      "cell_type": "code",
      "source": [
        "model_path = \"/content/model/my_model.pt\"\n",
        "test_image_path = \"/content/drive/MyDrive/Vertical.jpg\"\n",
        "predicted_image = '/content/runs/detect/predict/Vertical.jpg'\n",
        "text_file_path = '/content/runs/detect/predict/labels/Vertical.txt'"
      ],
      "metadata": {
        "id": "lsCK33n9f5MT"
      },
      "execution_count": 3,
      "outputs": []
    },
    {
      "cell_type": "markdown",
      "source": [
        "## Object Detection"
      ],
      "metadata": {
        "id": "_Hb5kCGUpCOz"
      }
    },
    {
      "cell_type": "markdown",
      "source": [
        "### Performing YOLO algorithm to detect the image"
      ],
      "metadata": {
        "id": "g8Ozdb-1nkoh"
      }
    },
    {
      "cell_type": "code",
      "source": [
        "model = YOLO(model_path)\n",
        "results = model.predict(source =  test_image_path, save=True, save_txt=True, show_labels=False, show_conf=False)\n",
        "for result in results:\n",
        "  classes = result.names"
      ],
      "metadata": {
        "colab": {
          "base_uri": "https://localhost:8080/"
        },
        "id": "ZFb7jFugoogD",
        "outputId": "2ff024a8-7f9f-4e86-f9d7-13431d25f07f"
      },
      "execution_count": 33,
      "outputs": [
        {
          "output_type": "stream",
          "name": "stdout",
          "text": [
            "\n",
            "image 1/1 /content/drive/MyDrive/Vertical.jpg: 448x640 1 Date of birth, 1 Expiry Date, 1 ID Number, 1 Issue Date, 1 Name, 1 Nationality, 17.5ms\n",
            "Speed: 2.7ms preprocess, 17.5ms inference, 1.5ms postprocess per image at shape (1, 3, 448, 640)\n",
            "Results saved to \u001b[1mruns/detect/predict3\u001b[0m\n",
            "1 label saved to runs/detect/predict3/labels\n"
          ]
        }
      ]
    },
    {
      "cell_type": "markdown",
      "source": [
        "### Function definition to extract bounding box"
      ],
      "metadata": {
        "id": "hKWE2aMjnokL"
      }
    },
    {
      "cell_type": "code",
      "source": [
        "def boundingbox(img_width,img_height,x_center,y_center,width,height):\n",
        "  #Calculate the coordinates of the bounding box\n",
        "  x_center_pixel = x_center * img_width\n",
        "  y_center_pixel = y_center * img_height\n",
        "  half_width = width * img_width / 2\n",
        "  half_height = height * img_height / 2\n",
        "\n",
        "  #Calculate the coordinates of the bounding box\n",
        "  x_min = int(x_center_pixel - half_width)\n",
        "  y_min = int(y_center_pixel - half_height)\n",
        "  x_max = int(x_center_pixel + half_width)\n",
        "  y_max = int(y_center_pixel + half_height)\n",
        "\n",
        "  return x_min, y_min, x_max, y_max"
      ],
      "metadata": {
        "id": "yTuec0_FgUNJ"
      },
      "execution_count": 5,
      "outputs": []
    },
    {
      "cell_type": "markdown",
      "source": [
        "### Performing OCR on bounding box data\n",
        "\n"
      ],
      "metadata": {
        "id": "f4sNepwknRy1"
      }
    },
    {
      "cell_type": "code",
      "source": [
        "image = cv2.imread(predicted_image)\n",
        "detection = []\n",
        "\n",
        "with open(text_file_path, 'r') as file:\n",
        "    lines = file.readlines()\n",
        "\n",
        "for i , line in enumerate(lines):\n",
        "  parts = line.split()\n",
        "  if len(parts) == 5:\n",
        "    class_id, x_center, y_center, width, height = map(float, parts)\n",
        "\n",
        "    img_width = image.shape[1]\n",
        "    img_height = image.shape[0]\n",
        "    x_min, y_min, x_max, y_max = boundingbox(img_width,img_height,x_center,y_center,width,height)\n",
        "\n",
        "    image = cv2.resize(image, (img_width,img_height))\n",
        "    cropped_region = image[y_min:y_max, x_min:x_max]\n",
        "    reader = easyocr.Reader(['en'])\n",
        "    detection +=  [reader.readtext(cropped_region)]\n",
        "    detection [i] += [classes[class_id]]\n",
        ""
      ],
      "metadata": {
        "id": "Xf6zJ9OmnQNS"
      },
      "execution_count": 49,
      "outputs": []
    },
    {
      "cell_type": "markdown",
      "source": [
        "### Final Output"
      ],
      "metadata": {
        "id": "3PA33cFfU8HD"
      }
    },
    {
      "cell_type": "code",
      "source": [
        "for ((box,name,prob),text) in detection:\n",
        "  print(f\"{text} = {name}\")"
      ],
      "metadata": {
        "colab": {
          "base_uri": "https://localhost:8080/"
        },
        "id": "yLgmPmBcSaKX",
        "outputId": "8c17bb45-501a-4c84-c9f2-2479a9480a32"
      },
      "execution_count": 61,
      "outputs": [
        {
          "output_type": "stream",
          "name": "stdout",
          "text": [
            "Expiry Date = 23/03/2025\n",
            "Name = Nihal Nishanth Walter Mascarenhas\n",
            "Date of birth = 16/04/2003\n",
            "Issue Date = 24/03/2023\n",
            "ID Number = 784-2003-2021616-9\n",
            "Nationality = India\n"
          ]
        }
      ]
    }
  ]
}